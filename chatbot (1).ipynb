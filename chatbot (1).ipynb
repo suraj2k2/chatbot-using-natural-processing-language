{
  "nbformat": 4,
  "nbformat_minor": 0,
  "metadata": {
    "colab": {
      "provenance": []
    },
    "kernelspec": {
      "name": "python3",
      "display_name": "Python 3"
    },
    "language_info": {
      "name": "python"
    }
  },
  "cells": [
    {
      "cell_type": "code",
      "execution_count": null,
      "metadata": {
        "id": "nLlAJn3Cox-G"
      },
      "outputs": [],
      "source": [
        "import numpy as np\n",
        "import nltk\n",
        "import string\n",
        "import random"
      ]
    },
    {
      "cell_type": "markdown",
      "source": [
        "reading the **corpus** **of** **text**"
      ],
      "metadata": {
        "id": "JtFQVsMipam5"
      }
    },
    {
      "cell_type": "code",
      "source": [
        "f=open('/content/data.txt','r',errors='ignore')\n",
        "raw_doc=f.read()"
      ],
      "metadata": {
        "id": "yQ4qjgDHpmk0"
      },
      "execution_count": null,
      "outputs": []
    },
    {
      "cell_type": "code",
      "source": [
        "raw_doc"
      ],
      "metadata": {
        "id": "LoXhMeMSroXC"
      },
      "execution_count": null,
      "outputs": []
    },
    {
      "cell_type": "code",
      "source": [
        "raw_doc=raw_doc.lower()\n",
        "nltk.download('punkt')\n",
        "nltk.download('wordnet')\n",
        "nltk.download('omw-1.4')\n"
      ],
      "metadata": {
        "colab": {
          "base_uri": "https://localhost:8080/"
        },
        "id": "ihXYtTfzrxzI",
        "outputId": "6232992a-c016-4f85-d193-74ae8ed19dd3"
      },
      "execution_count": null,
      "outputs": [
        {
          "output_type": "stream",
          "name": "stderr",
          "text": [
            "[nltk_data] Downloading package punkt to /root/nltk_data...\n",
            "[nltk_data]   Unzipping tokenizers/punkt.zip.\n",
            "[nltk_data] Downloading package wordnet to /root/nltk_data...\n",
            "[nltk_data] Downloading package omw-1.4 to /root/nltk_data...\n"
          ]
        },
        {
          "output_type": "execute_result",
          "data": {
            "text/plain": [
              "True"
            ]
          },
          "metadata": {},
          "execution_count": 5
        }
      ]
    },
    {
      "cell_type": "code",
      "source": [
        "raw_doc"
      ],
      "metadata": {
        "id": "0DH9xsUdtQG-"
      },
      "execution_count": null,
      "outputs": []
    },
    {
      "cell_type": "code",
      "source": [
        "sentence_tokens =nltk.sent_tokenize(raw_doc)\n",
        "word_tokens = nltk.word_tokenize(raw_doc)"
      ],
      "metadata": {
        "id": "QejR7Ol_tkyi"
      },
      "execution_count": null,
      "outputs": []
    },
    {
      "cell_type": "markdown",
      "source": [
        "after tokenization"
      ],
      "metadata": {
        "id": "dQtXlMO1tv1v"
      }
    },
    {
      "cell_type": "code",
      "source": [
        "sentence_tokens[:5]"
      ],
      "metadata": {
        "id": "S2AJsy5Ut4ai"
      },
      "execution_count": null,
      "outputs": []
    },
    {
      "cell_type": "code",
      "source": [
        "word_tokens[:5]"
      ],
      "metadata": {
        "id": "MxzZk2vkuF__"
      },
      "execution_count": null,
      "outputs": []
    },
    {
      "cell_type": "markdown",
      "source": [
        "performing Text-PreProcessing Steps"
      ],
      "metadata": {
        "id": "6nh1TX69uYjf"
      }
    },
    {
      "cell_type": "code",
      "source": [
        "lemmer =nltk.stem.WordNetLemmatizer()\n",
        "def LemTokens(tokens):\n",
        "    return [lemmer.lemmatize(token) for token in tokens]\n",
        "remove_punc_dict =dict((ord(punct),None) for punct in string.punctuation)\n",
        "def LemNormalize(text):\n",
        "   return LemTokens(nltk.word_tokenize(text.lower().translate(remove_punc_dict)))"
      ],
      "metadata": {
        "id": "fHStfZ9eujoV"
      },
      "execution_count": null,
      "outputs": []
    },
    {
      "cell_type": "markdown",
      "source": [
        "define greeting functions"
      ],
      "metadata": {
        "id": "85BjKM58xeKl"
      }
    },
    {
      "cell_type": "code",
      "source": [
        "greet_inputs = ('hello','hi','whassup','how are you?')\n",
        "greet_responses=('hi','hey','hey there!','there there!!')\n",
        "def greet(sentence):\n",
        "  for word in sentence.split():\n",
        "    if word.lower() in greet_inputs:\n",
        "      return random.choice(greet_responses)"
      ],
      "metadata": {
        "id": "Q_PwmT-9xjqI"
      },
      "execution_count": null,
      "outputs": []
    },
    {
      "cell_type": "markdown",
      "source": [
        "responce generation by the bot"
      ],
      "metadata": {
        "id": "1YHgqjEIzO8c"
      }
    },
    {
      "cell_type": "code",
      "source": [
        "from sklearn.feature_extraction.text import TfidfVectorizer\n",
        "from sklearn.metrics.pairwise import cosine_similarity"
      ],
      "metadata": {
        "id": "wxXwCbGYzWsj"
      },
      "execution_count": null,
      "outputs": []
    },
    {
      "cell_type": "code",
      "source": [
        "def response(user_response):\n",
        "  robo1_response =''\n",
        "  TfidfVec = TfidfVectorizer(tokenizer = LemNormalize, stop_words ='english')\n",
        "  tfidf=TfidfVec.fit_transform(sentence_tokens)\n",
        "  vals = cosine_similarity(tfidf[-1],tfidf)\n",
        "  idx =vals.argsort()[0][-2]\n",
        "  flat =vals.flatten()\n",
        "  flat.sort()\n",
        "  req_tfidf =flat[-2]\n",
        "  if(req_tfidf ==0):\n",
        "    robo1_response = robo1_response + \"i am sorry. unable to understand you !\"\n",
        "    return robo1_response\n",
        "  else:  \n",
        "    robo1_response = robo1_response + sentence_tokens[idx]\n",
        "    return robo1_response"
      ],
      "metadata": {
        "id": "l1LbMZop0Vso"
      },
      "execution_count": null,
      "outputs": []
    },
    {
      "cell_type": "code",
      "source": [
        "flag =True\n",
        "print('hello! i am the learing bot. start typing your text after greeting to talk to me')\n",
        "while(flag == True):\n",
        "  user_response = input()\n",
        "  user_response =user_response.lower()\n",
        "  if(user_response !='bye'):\n",
        "    if(user_response == 'thank you' or user_response == 'thanks'):\n",
        "        flag =False\n",
        "        print('Bot: you are welcome...')\n",
        "    else:\n",
        "         if(greet(user_response)!=None):\n",
        "           print('Bot'+ greet(user_response))\n",
        "         else:\n",
        "            sentence_tokens.append(user_response)\n",
        "            word_tokens =word_tokens +nltk.word_tokenize(user_response)\n",
        "            final_words=list(set(word_tokens))\n",
        "            print('Bot: ',end ='')\n",
        "            print(response(user_response))\n",
        "            sentence_tokens.remove(user_response)\n",
        "  else:\n",
        "      flag=False\n",
        "      print('Bot:Goodbye!')"
      ],
      "metadata": {
        "id": "dpEHVr0j2wVQ"
      },
      "execution_count": null,
      "outputs": []
    },
    {
      "cell_type": "markdown",
      "source": [
        "Defining the chatflow"
      ],
      "metadata": {
        "id": "cWKvmd772rli"
      }
    }
  ]
}